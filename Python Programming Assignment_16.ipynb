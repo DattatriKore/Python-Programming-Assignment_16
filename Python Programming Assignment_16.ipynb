{
 "cells": [
  {
   "cell_type": "code",
   "execution_count": 2,
   "id": "41a6f6f1",
   "metadata": {},
   "outputs": [
    {
     "name": "stdout",
     "output_type": "stream",
     "text": [
      "Enter the Word :incredible\n",
      "incredible  in... in... incredible?\n",
      "Enter the Word :enthusiastic\n",
      "enthusiastic  en... en... enthusiastic?\n",
      "Enter the Word :outstanding\n",
      "outstanding  ou... ou... outstanding?\n"
     ]
    }
   ],
   "source": [
    "'''\n",
    "Q.[1] : Write a function that stutters a word as if someone is struggling to read it. The first two letters are repeated\n",
    "\n",
    "        twice with an ellipsis ... and space after each, and then the word is pronounced with a question mark ?.\n",
    "        \n",
    "        Examples\n",
    "        \n",
    "        stutter(\"incredible\") ➞ \"in... in... incredible?\"\n",
    "        \n",
    "        stutter(\"enthusiastic\") ➞ \"en... en... enthusiastic?\"\n",
    "        \n",
    "        stutter(\"outstanding\") ➞ \"ou... ou... outstanding?\"\n",
    " \n",
    "'''\n",
    "\n",
    "def stutterWord():\n",
    "    in_string = input('Enter the Word :')\n",
    "    out_string = in_string.replace(in_string[0:2],((in_string[0:2]+'... ')*2)+ in_string[0:2])  +'?'\n",
    "    print(f'{in_string}  {out_string}')\n",
    "\n",
    "for i in range(3):\n",
    "    stutterWord()"
   ]
  },
  {
   "cell_type": "code",
   "execution_count": 5,
   "id": "0e0417ec",
   "metadata": {},
   "outputs": [
    {
     "name": "stdout",
     "output_type": "stream",
     "text": [
      "Enter the angle in Radians: 1\n",
      "1 radian  57.3 degrees\n",
      "Enter the angle in Radians: 20\n",
      "20 radian  1145.9 degrees\n",
      "Enter the angle in Radians: 50\n",
      "50 radian  2864.8 degrees\n"
     ]
    }
   ],
   "source": [
    "'''\n",
    "Q.[2] : Create a function that takes an angle in radians and returns the corresponding angle in degrees rounded to one\n",
    "\n",
    "        decimal place.\n",
    "        \n",
    "        Examples\n",
    "        \n",
    "        radians_to_degrees(1) ➞ 57.3\n",
    "        \n",
    "        radians_to_degrees(20) ➞ 1145.9\n",
    "        \n",
    "        radians_to_degrees(50) ➞ 2864.8\n",
    "\n",
    "'''\n",
    "\n",
    "import math\n",
    "def radian_To_Degree():\n",
    "    in_num = int(input('Enter the angle in Radians: '))\n",
    "    out_num = (180/math.pi)*in_num\n",
    "    print(f'{in_num} radian  {out_num:.1f} degrees')\n",
    "\n",
    "for x in range(3):\n",
    "    radian_To_Degree()"
   ]
  },
  {
   "cell_type": "code",
   "execution_count": 6,
   "id": "53de78d0",
   "metadata": {},
   "outputs": [
    {
     "name": "stdout",
     "output_type": "stream",
     "text": [
      "Enter a number: 5\n",
      "5 is a Curzon Number\n",
      "Enter a number: 10\n",
      "10 is Not a Curzon Number\n",
      "Enter a number: 14\n",
      "14 is a Curzon Number\n"
     ]
    }
   ],
   "source": [
    "'''\n",
    "Q.[3] : In this challenge, establish if a given integer num is a Curzon number. If 1 plus 2 elevated to num is exactly\n",
    "\n",
    "        divisible by 1 plus 2 multiplied by num, then num is a Curzon number.\n",
    "        \n",
    "        Given a non-negative integer num, implement a function that returns True if num is a Curzon number, or False\n",
    "        \n",
    "        otherwise.\n",
    "        \n",
    "        Examples\n",
    "        \n",
    "        is_curzon(5) ➞ True\n",
    "        \n",
    "        # 2 ** 5 + 1 = 33\n",
    "        \n",
    "        # 2 * 5 + 1 = 11\n",
    "        \n",
    "        # 33 is a multiple of 11\n",
    "        \n",
    "        is_curzon(10) ➞ False\n",
    "        \n",
    "        # 2 ** 10 + 1 = 1025\n",
    "        \n",
    "        # 2 * 10 + 1 = 21\n",
    "        \n",
    "        # 1025 is not a multiple of 21\n",
    "        \n",
    "        is_curzon(14) ➞ True\n",
    "        \n",
    "        # 2 ** 14 + 1 = 16385\n",
    "        \n",
    "        # 2 * 14 + 1 = 29\n",
    "        \n",
    "        # 16385 is a multiple of 29\n",
    "\n",
    "'''\n",
    "\n",
    "def Check_Curzon():\n",
    "    num = int(input(\"Enter a number: \"))\n",
    "    if (pow(2,num)+1)%((2*num)+1) == 0:\n",
    "        print(f'{num} is a Curzon Number')\n",
    "    else:\n",
    "        print(f'{num} is Not a Curzon Number')\n",
    "\n",
    "for x in range(3):\n",
    "    Check_Curzon()"
   ]
  },
  {
   "cell_type": "code",
   "execution_count": 9,
   "id": "c4780cf5",
   "metadata": {},
   "outputs": [
    {
     "name": "stdout",
     "output_type": "stream",
     "text": [
      "Enter the side length of a Hexagon: 1\n",
      "Area for Hexagon of sidelength 1 : 2.6\n",
      "Enter the side length of a Hexagon: 2\n",
      "Area for Hexagon of sidelength 2 : 10.4\n",
      "Enter the side length of a Hexagon: 3\n",
      "Area for Hexagon of sidelength 3 : 23.4\n"
     ]
    }
   ],
   "source": [
    "'''\n",
    "Q.[4] : Given the side length x find the area of a hexagon.\n",
    "\n",
    "        Examples\n",
    "       \n",
    "        area_of_hexagon(1) ➞ 2.6\n",
    "       \n",
    "        area_of_hexagon(2) ➞ 10.4\n",
    "       \n",
    "        area_of_hexagon(3) ➞ 23.4 \n",
    "\n",
    "'''\n",
    "\n",
    "import math\n",
    "def area_Of_Hexagon():\n",
    "    num = int(input('Enter the side length of a Hexagon: '))\n",
    "    dk_num = ((3*math.sqrt(3))/2)*(pow(num,2))\n",
    "    print(f'Area for Hexagon of sidelength {num} : {dk_num:.1f}')\n",
    "    \n",
    "for x in range(3):\n",
    "    area_Of_Hexagon()"
   ]
  },
  {
   "cell_type": "code",
   "execution_count": 10,
   "id": "df0da343",
   "metadata": {},
   "outputs": [
    {
     "name": "stdout",
     "output_type": "stream",
     "text": [
      "Enter a Number: 1\n",
      "Binary of 1 : 1\n",
      "Enter a Number: 5\n",
      "Binary of 5 : 101\n",
      "Enter a Number: 10\n",
      "Binary of 10 : 1010\n"
     ]
    }
   ],
   "source": [
    "'''\n",
    "Q.[5] : Create a function that returns a base-2 (binary) representation of a base-10 (decimal) string number. To convert\n",
    "\n",
    "        is simple: ((2) means base-2 and (10) means base-10) 010101001(2) = 1 + 8 + 32 + 128.\n",
    "        \n",
    "        Going from right to left, the value of the most right bit is 1, now from that every bit to the left will be x2\n",
    "        \n",
    "        the value, value of an 8 bit binary numbers are (256, 128, 64, 32, 16, 8, 4, 2, 1).\n",
    "        \n",
    "        Examples\n",
    "        \n",
    "        binary(1) ➞ \"1\"\n",
    "        \n",
    "        # 1*1 = 1\n",
    "        \n",
    "        binary(5) ➞ \"101\"\n",
    "        \n",
    "        # 1*1 + 1*4 = 5\n",
    "        \n",
    "        binary(10) ➞ \"1010\"\n",
    "        \n",
    "        # 1*2 + 1*8 = 10\n",
    "\n",
    "'''\n",
    "\n",
    "def Binary():\n",
    "    num = int(input(\"Enter a Number: \"))\n",
    "    dk_num = bin(num).replace('0b','') \n",
    "    print(f'Binary of {num} : {dk_num}')\n",
    "\n",
    "for x in range(3):\n",
    "    Binary()"
   ]
  },
  {
   "cell_type": "code",
   "execution_count": null,
   "id": "805f8c04",
   "metadata": {},
   "outputs": [],
   "source": []
  }
 ],
 "metadata": {
  "kernelspec": {
   "display_name": "Python 3 (ipykernel)",
   "language": "python",
   "name": "python3"
  },
  "language_info": {
   "codemirror_mode": {
    "name": "ipython",
    "version": 3
   },
   "file_extension": ".py",
   "mimetype": "text/x-python",
   "name": "python",
   "nbconvert_exporter": "python",
   "pygments_lexer": "ipython3",
   "version": "3.9.13"
  }
 },
 "nbformat": 4,
 "nbformat_minor": 5
}
